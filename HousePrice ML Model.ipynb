{
 "cells": [
  {
   "cell_type": "code",
   "execution_count": 1,
   "metadata": {},
   "outputs": [],
   "source": [
    "import pandas as pd\n",
    "import numpy as np\n",
    "import seaborn as sns"
   ]
  },
  {
   "cell_type": "code",
   "execution_count": 2,
   "metadata": {},
   "outputs": [
    {
     "data": {
      "text/html": [
       "<div>\n",
       "<style scoped>\n",
       "    .dataframe tbody tr th:only-of-type {\n",
       "        vertical-align: middle;\n",
       "    }\n",
       "\n",
       "    .dataframe tbody tr th {\n",
       "        vertical-align: top;\n",
       "    }\n",
       "\n",
       "    .dataframe thead th {\n",
       "        text-align: right;\n",
       "    }\n",
       "</style>\n",
       "<table border=\"1\" class=\"dataframe\">\n",
       "  <thead>\n",
       "    <tr style=\"text-align: right;\">\n",
       "      <th></th>\n",
       "      <th>Street Address</th>\n",
       "      <th>City</th>\n",
       "      <th>County</th>\n",
       "      <th>State</th>\n",
       "      <th>Country</th>\n",
       "      <th>Zipcode</th>\n",
       "      <th>Ziilow Id</th>\n",
       "      <th>Property Url</th>\n",
       "      <th>Bedrooms</th>\n",
       "      <th>Bathrooms</th>\n",
       "      <th>...</th>\n",
       "      <th>Listing Type</th>\n",
       "      <th>Agent Name</th>\n",
       "      <th>Agent Phone Number</th>\n",
       "      <th>Agent Email</th>\n",
       "      <th>Agent License Number</th>\n",
       "      <th>Agency</th>\n",
       "      <th>MLS ID</th>\n",
       "      <th>MLS Name</th>\n",
       "      <th>HOA Fee</th>\n",
       "      <th>Pictures</th>\n",
       "    </tr>\n",
       "  </thead>\n",
       "  <tbody>\n",
       "    <tr>\n",
       "      <th>0</th>\n",
       "      <td>829 W 66th St</td>\n",
       "      <td>Los Angeles</td>\n",
       "      <td>Los Angeles County</td>\n",
       "      <td>CA</td>\n",
       "      <td>USA</td>\n",
       "      <td>90044</td>\n",
       "      <td>20934009</td>\n",
       "      <td>https://www.zillow.com/homedetails/829-W-66th-...</td>\n",
       "      <td>3</td>\n",
       "      <td>1</td>\n",
       "      <td>...</td>\n",
       "      <td>Unknown Listed By</td>\n",
       "      <td>Lillie Reda</td>\n",
       "      <td>323-747-3640</td>\n",
       "      <td>lilliec1@att.net</td>\n",
       "      <td>DRE #01084559</td>\n",
       "      <td>Excellence Real Estate</td>\n",
       "      <td>DW22007910</td>\n",
       "      <td>CRMLS</td>\n",
       "      <td>NaN</td>\n",
       "      <td>https://photos.zillowstatic.com/fp/a0f5b38d972...</td>\n",
       "    </tr>\n",
       "    <tr>\n",
       "      <th>1</th>\n",
       "      <td>9673 Via Torino #154</td>\n",
       "      <td>Burbank</td>\n",
       "      <td>Los Angeles County</td>\n",
       "      <td>CA</td>\n",
       "      <td>USA</td>\n",
       "      <td>91504</td>\n",
       "      <td>20033668</td>\n",
       "      <td>https://www.zillow.com/homedetails/9673-Via-To...</td>\n",
       "      <td>2</td>\n",
       "      <td>2</td>\n",
       "      <td>...</td>\n",
       "      <td>For Rent</td>\n",
       "      <td>NaN</td>\n",
       "      <td>NaN</td>\n",
       "      <td>jerry@teamrockproperties.com</td>\n",
       "      <td>NaN</td>\n",
       "      <td>NaN</td>\n",
       "      <td>NaN</td>\n",
       "      <td>Zillow Rental Manager</td>\n",
       "      <td>$439 monthly</td>\n",
       "      <td>https://photos.zillowstatic.com/fp/22c59ef7419...</td>\n",
       "    </tr>\n",
       "    <tr>\n",
       "      <th>2</th>\n",
       "      <td>9673 Via Torino</td>\n",
       "      <td>Burbank</td>\n",
       "      <td>Los Angeles County</td>\n",
       "      <td>CA</td>\n",
       "      <td>USA</td>\n",
       "      <td>91504</td>\n",
       "      <td>2088531295</td>\n",
       "      <td>https://www.zillow.com/homedetails/9673-Via-To...</td>\n",
       "      <td>2</td>\n",
       "      <td>1.5</td>\n",
       "      <td>...</td>\n",
       "      <td>Unknown Listed By</td>\n",
       "      <td>NaN</td>\n",
       "      <td>NaN</td>\n",
       "      <td>NaN</td>\n",
       "      <td>NaN</td>\n",
       "      <td>NaN</td>\n",
       "      <td>NaN</td>\n",
       "      <td>NaN</td>\n",
       "      <td>NaN</td>\n",
       "      <td>https://photos.zillowstatic.com/fp/c960fd9b761...</td>\n",
       "    </tr>\n",
       "    <tr>\n",
       "      <th>3</th>\n",
       "      <td>13621 Simshaw Ave</td>\n",
       "      <td>Sylmar</td>\n",
       "      <td>Los Angeles County</td>\n",
       "      <td>CA</td>\n",
       "      <td>USA</td>\n",
       "      <td>91342</td>\n",
       "      <td>20102436</td>\n",
       "      <td>https://www.zillow.com/homedetails/13621-Simsh...</td>\n",
       "      <td>3</td>\n",
       "      <td>2</td>\n",
       "      <td>...</td>\n",
       "      <td>Unknown Listed By</td>\n",
       "      <td>Audrey Overton</td>\n",
       "      <td>NaN</td>\n",
       "      <td>audrey@audreyoverton.com</td>\n",
       "      <td>DRE #02007589</td>\n",
       "      <td>Century 21 Everest</td>\n",
       "      <td>SR22032355</td>\n",
       "      <td>CRMLS</td>\n",
       "      <td>NaN</td>\n",
       "      <td>https://photos.zillowstatic.com/fp/f41d7ed87a0...</td>\n",
       "    </tr>\n",
       "    <tr>\n",
       "      <th>4</th>\n",
       "      <td>4600 Don Lorenzo Dr APT 30</td>\n",
       "      <td>Los Angeles</td>\n",
       "      <td>Los Angeles County</td>\n",
       "      <td>CA</td>\n",
       "      <td>USA</td>\n",
       "      <td>90008</td>\n",
       "      <td>61361676</td>\n",
       "      <td>https://www.zillow.com/homedetails/4600-Don-Lo...</td>\n",
       "      <td>2</td>\n",
       "      <td>3</td>\n",
       "      <td>...</td>\n",
       "      <td>Unknown Listed By</td>\n",
       "      <td>Stefanie Mcintyre</td>\n",
       "      <td>818-321-6522</td>\n",
       "      <td>soldbystefanie@kw.com</td>\n",
       "      <td>DRE # 01874509</td>\n",
       "      <td>KW Advisors</td>\n",
       "      <td>22-117173</td>\n",
       "      <td>CLAW</td>\n",
       "      <td>$404 monthly</td>\n",
       "      <td>https://photos.zillowstatic.com/fp/6a763dd674b...</td>\n",
       "    </tr>\n",
       "  </tbody>\n",
       "</table>\n",
       "<p>5 rows × 44 columns</p>\n",
       "</div>"
      ],
      "text/plain": [
       "               Street Address         City              County State Country  \\\n",
       "0               829 W 66th St  Los Angeles  Los Angeles County    CA     USA   \n",
       "1        9673 Via Torino #154      Burbank  Los Angeles County    CA     USA   \n",
       "2             9673 Via Torino      Burbank  Los Angeles County    CA     USA   \n",
       "3           13621 Simshaw Ave       Sylmar  Los Angeles County    CA     USA   \n",
       "4  4600 Don Lorenzo Dr APT 30  Los Angeles  Los Angeles County    CA     USA   \n",
       "\n",
       "  Zipcode   Ziilow Id                                       Property Url  \\\n",
       "0   90044    20934009  https://www.zillow.com/homedetails/829-W-66th-...   \n",
       "1   91504    20033668  https://www.zillow.com/homedetails/9673-Via-To...   \n",
       "2   91504  2088531295  https://www.zillow.com/homedetails/9673-Via-To...   \n",
       "3   91342    20102436  https://www.zillow.com/homedetails/13621-Simsh...   \n",
       "4   90008    61361676  https://www.zillow.com/homedetails/4600-Don-Lo...   \n",
       "\n",
       "  Bedrooms Bathrooms  ...       Listing Type         Agent Name  \\\n",
       "0        3         1  ...  Unknown Listed By        Lillie Reda   \n",
       "1        2         2  ...           For Rent                NaN   \n",
       "2        2       1.5  ...  Unknown Listed By                NaN   \n",
       "3        3         2  ...  Unknown Listed By     Audrey Overton   \n",
       "4        2         3  ...  Unknown Listed By  Stefanie Mcintyre   \n",
       "\n",
       "  Agent Phone Number                   Agent Email Agent License Number  \\\n",
       "0       323-747-3640              lilliec1@att.net        DRE #01084559   \n",
       "1                NaN  jerry@teamrockproperties.com                  NaN   \n",
       "2                NaN                           NaN                  NaN   \n",
       "3                NaN      audrey@audreyoverton.com        DRE #02007589   \n",
       "4       818-321-6522         soldbystefanie@kw.com       DRE # 01874509   \n",
       "\n",
       "                   Agency      MLS ID               MLS Name       HOA Fee  \\\n",
       "0  Excellence Real Estate  DW22007910                  CRMLS           NaN   \n",
       "1                     NaN         NaN  Zillow Rental Manager  $439 monthly   \n",
       "2                     NaN         NaN                    NaN           NaN   \n",
       "3      Century 21 Everest  SR22032355                  CRMLS           NaN   \n",
       "4             KW Advisors   22-117173                   CLAW  $404 monthly   \n",
       "\n",
       "                                            Pictures  \n",
       "0  https://photos.zillowstatic.com/fp/a0f5b38d972...  \n",
       "1  https://photos.zillowstatic.com/fp/22c59ef7419...  \n",
       "2  https://photos.zillowstatic.com/fp/c960fd9b761...  \n",
       "3  https://photos.zillowstatic.com/fp/f41d7ed87a0...  \n",
       "4  https://photos.zillowstatic.com/fp/6a763dd674b...  \n",
       "\n",
       "[5 rows x 44 columns]"
      ]
     },
     "execution_count": 2,
     "metadata": {},
     "output_type": "execute_result"
    }
   ],
   "source": [
    "df = pd.read_csv(\"final_zillow.csv\", dtype = str, header = 1)\n",
    "df.head()"
   ]
  },
  {
   "cell_type": "code",
   "execution_count": 3,
   "metadata": {},
   "outputs": [],
   "source": [
    "drop_cols = ['Property Url', 'Country', 'Ziilow Id', 'Living Area Unit', 'Cooling', 'Fireplaces', 'Heating',\n",
    "            'Parking', 'Currency', 'Time On Zillow', 'Latitude', 'Longitude',\n",
    "            'Listing Type', 'Agent Phone Number', 'Agent Email', 'Agent License Number',\n",
    "            'MLS ID', 'MLS Name', 'HOA Fee', 'Pictures', 'Street Address']"
   ]
  },
  {
   "cell_type": "code",
   "execution_count": 4,
   "metadata": {},
   "outputs": [],
   "source": [
    "df = df.drop(drop_cols, axis = 1)"
   ]
  },
  {
   "cell_type": "code",
   "execution_count": 5,
   "metadata": {},
   "outputs": [],
   "source": [
    "df['Price'] = df['Price'].replace('--', np.nan)"
   ]
  },
  {
   "cell_type": "code",
   "execution_count": 6,
   "metadata": {},
   "outputs": [],
   "source": [
    "df['Description'] = df['Description'].astype(str)"
   ]
  },
  {
   "cell_type": "code",
   "execution_count": 7,
   "metadata": {},
   "outputs": [],
   "source": [
    "df = df.drop(5901, axis = 0)"
   ]
  },
  {
   "cell_type": "code",
   "execution_count": 8,
   "metadata": {},
   "outputs": [
    {
     "data": {
      "text/plain": [
       "0        685000\n",
       "1          3500\n",
       "2        685000\n",
       "3        688000\n",
       "4        700000\n",
       "          ...  \n",
       "34392    810000\n",
       "34393    815000\n",
       "34394    810000\n",
       "34395    810000\n",
       "34396    805000\n",
       "Name: Price, Length: 34396, dtype: int64"
      ]
     },
     "execution_count": 8,
     "metadata": {},
     "output_type": "execute_result"
    }
   ],
   "source": [
    "pd.to_numeric(df['Price'])"
   ]
  },
  {
   "cell_type": "markdown",
   "metadata": {},
   "source": [
    "## Basic Feature Extraction"
   ]
  },
  {
   "cell_type": "markdown",
   "metadata": {},
   "source": [
    "### Word Count"
   ]
  },
  {
   "cell_type": "code",
   "execution_count": 9,
   "metadata": {},
   "outputs": [],
   "source": [
    "df['word_count'] = df['Description'].apply(lambda x: len(str(x).split(\" \")))"
   ]
  },
  {
   "cell_type": "code",
   "execution_count": 10,
   "metadata": {},
   "outputs": [
    {
     "data": {
      "text/html": [
       "<div>\n",
       "<style scoped>\n",
       "    .dataframe tbody tr th:only-of-type {\n",
       "        vertical-align: middle;\n",
       "    }\n",
       "\n",
       "    .dataframe tbody tr th {\n",
       "        vertical-align: top;\n",
       "    }\n",
       "\n",
       "    .dataframe thead th {\n",
       "        text-align: right;\n",
       "    }\n",
       "</style>\n",
       "<table border=\"1\" class=\"dataframe\">\n",
       "  <thead>\n",
       "    <tr style=\"text-align: right;\">\n",
       "      <th></th>\n",
       "      <th>City</th>\n",
       "      <th>County</th>\n",
       "      <th>State</th>\n",
       "      <th>Zipcode</th>\n",
       "      <th>Bedrooms</th>\n",
       "      <th>Bathrooms</th>\n",
       "      <th>Property Status</th>\n",
       "      <th>Property Type</th>\n",
       "      <th>Living Area</th>\n",
       "      <th>Zestimate</th>\n",
       "      <th>...</th>\n",
       "      <th>Parking Capacity</th>\n",
       "      <th>Price</th>\n",
       "      <th>Year Built</th>\n",
       "      <th>Description</th>\n",
       "      <th>Days On Zillow</th>\n",
       "      <th>View Count</th>\n",
       "      <th>Favourite Count</th>\n",
       "      <th>Agent Name</th>\n",
       "      <th>Agency</th>\n",
       "      <th>word_count</th>\n",
       "    </tr>\n",
       "  </thead>\n",
       "  <tbody>\n",
       "    <tr>\n",
       "      <th>0</th>\n",
       "      <td>Los Angeles</td>\n",
       "      <td>Los Angeles County</td>\n",
       "      <td>CA</td>\n",
       "      <td>90044</td>\n",
       "      <td>3</td>\n",
       "      <td>1</td>\n",
       "      <td>RECENTLY_SOLD</td>\n",
       "      <td>SINGLE_FAMILY</td>\n",
       "      <td>1044</td>\n",
       "      <td>662700</td>\n",
       "      <td>...</td>\n",
       "      <td>1</td>\n",
       "      <td>685000</td>\n",
       "      <td>1921</td>\n",
       "      <td>Huge Development or Investment Potential!. Thi...</td>\n",
       "      <td>3</td>\n",
       "      <td>31</td>\n",
       "      <td>0</td>\n",
       "      <td>Lillie Reda</td>\n",
       "      <td>Excellence Real Estate</td>\n",
       "      <td>84</td>\n",
       "    </tr>\n",
       "    <tr>\n",
       "      <th>1</th>\n",
       "      <td>Burbank</td>\n",
       "      <td>Los Angeles County</td>\n",
       "      <td>CA</td>\n",
       "      <td>91504</td>\n",
       "      <td>2</td>\n",
       "      <td>2</td>\n",
       "      <td>FOR_RENT</td>\n",
       "      <td>TOWNHOUSE</td>\n",
       "      <td>1151</td>\n",
       "      <td>649951</td>\n",
       "      <td>...</td>\n",
       "      <td>2</td>\n",
       "      <td>3500</td>\n",
       "      <td>1975</td>\n",
       "      <td>Fully remodeled, Corner Unit townhome in the C...</td>\n",
       "      <td>3</td>\n",
       "      <td>359</td>\n",
       "      <td>22</td>\n",
       "      <td>NaN</td>\n",
       "      <td>NaN</td>\n",
       "      <td>146</td>\n",
       "    </tr>\n",
       "    <tr>\n",
       "      <th>2</th>\n",
       "      <td>Burbank</td>\n",
       "      <td>Los Angeles County</td>\n",
       "      <td>CA</td>\n",
       "      <td>91504</td>\n",
       "      <td>2</td>\n",
       "      <td>1.5</td>\n",
       "      <td>RECENTLY_SOLD</td>\n",
       "      <td>TOWNHOUSE</td>\n",
       "      <td>1151</td>\n",
       "      <td>887400</td>\n",
       "      <td>...</td>\n",
       "      <td>0</td>\n",
       "      <td>685000</td>\n",
       "      <td>NaN</td>\n",
       "      <td>Cabrini Villas.Top of Hill.Private/Quiet/Grass...</td>\n",
       "      <td>3</td>\n",
       "      <td>9</td>\n",
       "      <td>0</td>\n",
       "      <td>NaN</td>\n",
       "      <td>NaN</td>\n",
       "      <td>86</td>\n",
       "    </tr>\n",
       "    <tr>\n",
       "      <th>3</th>\n",
       "      <td>Sylmar</td>\n",
       "      <td>Los Angeles County</td>\n",
       "      <td>CA</td>\n",
       "      <td>91342</td>\n",
       "      <td>3</td>\n",
       "      <td>2</td>\n",
       "      <td>RECENTLY_SOLD</td>\n",
       "      <td>SINGLE_FAMILY</td>\n",
       "      <td>1274</td>\n",
       "      <td>623000</td>\n",
       "      <td>...</td>\n",
       "      <td>4</td>\n",
       "      <td>688000</td>\n",
       "      <td>1959</td>\n",
       "      <td>SOLD BEFORE PROCESSING - Welcome home to this ...</td>\n",
       "      <td>4</td>\n",
       "      <td>23</td>\n",
       "      <td>0</td>\n",
       "      <td>Audrey Overton</td>\n",
       "      <td>Century 21 Everest</td>\n",
       "      <td>73</td>\n",
       "    </tr>\n",
       "    <tr>\n",
       "      <th>4</th>\n",
       "      <td>Los Angeles</td>\n",
       "      <td>Los Angeles County</td>\n",
       "      <td>CA</td>\n",
       "      <td>90008</td>\n",
       "      <td>2</td>\n",
       "      <td>3</td>\n",
       "      <td>RECENTLY_SOLD</td>\n",
       "      <td>TOWNHOUSE</td>\n",
       "      <td>1151</td>\n",
       "      <td>664700</td>\n",
       "      <td>...</td>\n",
       "      <td>2</td>\n",
       "      <td>700000</td>\n",
       "      <td>2002</td>\n",
       "      <td>This tri-level end unit is one of Just 55 unit...</td>\n",
       "      <td>4</td>\n",
       "      <td>28</td>\n",
       "      <td>0</td>\n",
       "      <td>Stefanie Mcintyre</td>\n",
       "      <td>KW Advisors</td>\n",
       "      <td>143</td>\n",
       "    </tr>\n",
       "  </tbody>\n",
       "</table>\n",
       "<p>5 rows × 24 columns</p>\n",
       "</div>"
      ],
      "text/plain": [
       "          City              County State Zipcode Bedrooms Bathrooms  \\\n",
       "0  Los Angeles  Los Angeles County    CA   90044        3         1   \n",
       "1      Burbank  Los Angeles County    CA   91504        2         2   \n",
       "2      Burbank  Los Angeles County    CA   91504        2       1.5   \n",
       "3       Sylmar  Los Angeles County    CA   91342        3         2   \n",
       "4  Los Angeles  Los Angeles County    CA   90008        2         3   \n",
       "\n",
       "  Property Status  Property Type Living Area Zestimate  ... Parking Capacity  \\\n",
       "0   RECENTLY_SOLD  SINGLE_FAMILY        1044    662700  ...                1   \n",
       "1        FOR_RENT      TOWNHOUSE        1151    649951  ...                2   \n",
       "2   RECENTLY_SOLD      TOWNHOUSE        1151    887400  ...                0   \n",
       "3   RECENTLY_SOLD  SINGLE_FAMILY        1274    623000  ...                4   \n",
       "4   RECENTLY_SOLD      TOWNHOUSE        1151    664700  ...                2   \n",
       "\n",
       "    Price Year Built                                        Description  \\\n",
       "0  685000       1921  Huge Development or Investment Potential!. Thi...   \n",
       "1    3500       1975  Fully remodeled, Corner Unit townhome in the C...   \n",
       "2  685000        NaN  Cabrini Villas.Top of Hill.Private/Quiet/Grass...   \n",
       "3  688000       1959  SOLD BEFORE PROCESSING - Welcome home to this ...   \n",
       "4  700000       2002  This tri-level end unit is one of Just 55 unit...   \n",
       "\n",
       "  Days On Zillow View Count Favourite Count         Agent Name  \\\n",
       "0              3         31               0        Lillie Reda   \n",
       "1              3        359              22                NaN   \n",
       "2              3          9               0                NaN   \n",
       "3              4         23               0     Audrey Overton   \n",
       "4              4         28               0  Stefanie Mcintyre   \n",
       "\n",
       "                   Agency word_count  \n",
       "0  Excellence Real Estate         84  \n",
       "1                     NaN        146  \n",
       "2                     NaN         86  \n",
       "3      Century 21 Everest         73  \n",
       "4             KW Advisors        143  \n",
       "\n",
       "[5 rows x 24 columns]"
      ]
     },
     "execution_count": 10,
     "metadata": {},
     "output_type": "execute_result"
    }
   ],
   "source": [
    "df.head()"
   ]
  },
  {
   "cell_type": "markdown",
   "metadata": {},
   "source": [
    "### Average Word Length"
   ]
  },
  {
   "cell_type": "code",
   "execution_count": 11,
   "metadata": {},
   "outputs": [],
   "source": [
    "def avg_word(sentence):\n",
    "    words = sentence.split()\n",
    "    return (sum(len(word) for word in words)/len(words))"
   ]
  },
  {
   "cell_type": "code",
   "execution_count": 12,
   "metadata": {},
   "outputs": [
    {
     "data": {
      "text/html": [
       "<div>\n",
       "<style scoped>\n",
       "    .dataframe tbody tr th:only-of-type {\n",
       "        vertical-align: middle;\n",
       "    }\n",
       "\n",
       "    .dataframe tbody tr th {\n",
       "        vertical-align: top;\n",
       "    }\n",
       "\n",
       "    .dataframe thead th {\n",
       "        text-align: right;\n",
       "    }\n",
       "</style>\n",
       "<table border=\"1\" class=\"dataframe\">\n",
       "  <thead>\n",
       "    <tr style=\"text-align: right;\">\n",
       "      <th></th>\n",
       "      <th>Description</th>\n",
       "      <th>avg_word</th>\n",
       "    </tr>\n",
       "  </thead>\n",
       "  <tbody>\n",
       "    <tr>\n",
       "      <th>0</th>\n",
       "      <td>Huge Development or Investment Potential!. Thi...</td>\n",
       "      <td>4.542169</td>\n",
       "    </tr>\n",
       "    <tr>\n",
       "      <th>1</th>\n",
       "      <td>Fully remodeled, Corner Unit townhome in the C...</td>\n",
       "      <td>4.829932</td>\n",
       "    </tr>\n",
       "    <tr>\n",
       "      <th>2</th>\n",
       "      <td>Cabrini Villas.Top of Hill.Private/Quiet/Grass...</td>\n",
       "      <td>6.209302</td>\n",
       "    </tr>\n",
       "    <tr>\n",
       "      <th>3</th>\n",
       "      <td>SOLD BEFORE PROCESSING - Welcome home to this ...</td>\n",
       "      <td>4.485714</td>\n",
       "    </tr>\n",
       "    <tr>\n",
       "      <th>4</th>\n",
       "      <td>This tri-level end unit is one of Just 55 unit...</td>\n",
       "      <td>5.204225</td>\n",
       "    </tr>\n",
       "  </tbody>\n",
       "</table>\n",
       "</div>"
      ],
      "text/plain": [
       "                                         Description  avg_word\n",
       "0  Huge Development or Investment Potential!. Thi...  4.542169\n",
       "1  Fully remodeled, Corner Unit townhome in the C...  4.829932\n",
       "2  Cabrini Villas.Top of Hill.Private/Quiet/Grass...  6.209302\n",
       "3  SOLD BEFORE PROCESSING - Welcome home to this ...  4.485714\n",
       "4  This tri-level end unit is one of Just 55 unit...  5.204225"
      ]
     },
     "execution_count": 12,
     "metadata": {},
     "output_type": "execute_result"
    }
   ],
   "source": [
    "df['avg_word'] = df['Description'].apply(lambda x: avg_word(x))\n",
    "df[['Description','avg_word']].head()"
   ]
  },
  {
   "cell_type": "markdown",
   "metadata": {},
   "source": [
    "### Stopwords"
   ]
  },
  {
   "cell_type": "code",
   "execution_count": 13,
   "metadata": {},
   "outputs": [],
   "source": [
    "import nltk"
   ]
  },
  {
   "cell_type": "code",
   "execution_count": 14,
   "metadata": {},
   "outputs": [
    {
     "data": {
      "text/html": [
       "<div>\n",
       "<style scoped>\n",
       "    .dataframe tbody tr th:only-of-type {\n",
       "        vertical-align: middle;\n",
       "    }\n",
       "\n",
       "    .dataframe tbody tr th {\n",
       "        vertical-align: top;\n",
       "    }\n",
       "\n",
       "    .dataframe thead th {\n",
       "        text-align: right;\n",
       "    }\n",
       "</style>\n",
       "<table border=\"1\" class=\"dataframe\">\n",
       "  <thead>\n",
       "    <tr style=\"text-align: right;\">\n",
       "      <th></th>\n",
       "      <th>Description</th>\n",
       "      <th>stopwords</th>\n",
       "    </tr>\n",
       "  </thead>\n",
       "  <tbody>\n",
       "    <tr>\n",
       "      <th>0</th>\n",
       "      <td>Huge Development or Investment Potential!. Thi...</td>\n",
       "      <td>31</td>\n",
       "    </tr>\n",
       "    <tr>\n",
       "      <th>1</th>\n",
       "      <td>Fully remodeled, Corner Unit townhome in the C...</td>\n",
       "      <td>47</td>\n",
       "    </tr>\n",
       "    <tr>\n",
       "      <th>2</th>\n",
       "      <td>Cabrini Villas.Top of Hill.Private/Quiet/Grass...</td>\n",
       "      <td>14</td>\n",
       "    </tr>\n",
       "    <tr>\n",
       "      <th>3</th>\n",
       "      <td>SOLD BEFORE PROCESSING - Welcome home to this ...</td>\n",
       "      <td>24</td>\n",
       "    </tr>\n",
       "    <tr>\n",
       "      <th>4</th>\n",
       "      <td>This tri-level end unit is one of Just 55 unit...</td>\n",
       "      <td>37</td>\n",
       "    </tr>\n",
       "  </tbody>\n",
       "</table>\n",
       "</div>"
      ],
      "text/plain": [
       "                                         Description  stopwords\n",
       "0  Huge Development or Investment Potential!. Thi...         31\n",
       "1  Fully remodeled, Corner Unit townhome in the C...         47\n",
       "2  Cabrini Villas.Top of Hill.Private/Quiet/Grass...         14\n",
       "3  SOLD BEFORE PROCESSING - Welcome home to this ...         24\n",
       "4  This tri-level end unit is one of Just 55 unit...         37"
      ]
     },
     "execution_count": 14,
     "metadata": {},
     "output_type": "execute_result"
    }
   ],
   "source": [
    "from nltk.corpus import stopwords\n",
    "stop = stopwords.words('english')\n",
    "\n",
    "df['stopwords'] = df['Description'].apply(lambda x: len([x for x in x.split() if x in stop]))\n",
    "df[['Description','stopwords']].head()"
   ]
  },
  {
   "cell_type": "markdown",
   "metadata": {},
   "source": [
    "### Special Characters - Exclamation"
   ]
  },
  {
   "cell_type": "code",
   "execution_count": 15,
   "metadata": {},
   "outputs": [
    {
     "data": {
      "text/html": [
       "<div>\n",
       "<style scoped>\n",
       "    .dataframe tbody tr th:only-of-type {\n",
       "        vertical-align: middle;\n",
       "    }\n",
       "\n",
       "    .dataframe tbody tr th {\n",
       "        vertical-align: top;\n",
       "    }\n",
       "\n",
       "    .dataframe thead th {\n",
       "        text-align: right;\n",
       "    }\n",
       "</style>\n",
       "<table border=\"1\" class=\"dataframe\">\n",
       "  <thead>\n",
       "    <tr style=\"text-align: right;\">\n",
       "      <th></th>\n",
       "      <th>Description</th>\n",
       "      <th>chars</th>\n",
       "    </tr>\n",
       "  </thead>\n",
       "  <tbody>\n",
       "    <tr>\n",
       "      <th>0</th>\n",
       "      <td>Huge Development or Investment Potential!. Thi...</td>\n",
       "      <td>1</td>\n",
       "    </tr>\n",
       "    <tr>\n",
       "      <th>1</th>\n",
       "      <td>Fully remodeled, Corner Unit townhome in the C...</td>\n",
       "      <td>1</td>\n",
       "    </tr>\n",
       "    <tr>\n",
       "      <th>2</th>\n",
       "      <td>Cabrini Villas.Top of Hill.Private/Quiet/Grass...</td>\n",
       "      <td>0</td>\n",
       "    </tr>\n",
       "    <tr>\n",
       "      <th>3</th>\n",
       "      <td>SOLD BEFORE PROCESSING - Welcome home to this ...</td>\n",
       "      <td>0</td>\n",
       "    </tr>\n",
       "    <tr>\n",
       "      <th>4</th>\n",
       "      <td>This tri-level end unit is one of Just 55 unit...</td>\n",
       "      <td>0</td>\n",
       "    </tr>\n",
       "  </tbody>\n",
       "</table>\n",
       "</div>"
      ],
      "text/plain": [
       "                                         Description  chars\n",
       "0  Huge Development or Investment Potential!. Thi...      1\n",
       "1  Fully remodeled, Corner Unit townhome in the C...      1\n",
       "2  Cabrini Villas.Top of Hill.Private/Quiet/Grass...      0\n",
       "3  SOLD BEFORE PROCESSING - Welcome home to this ...      0\n",
       "4  This tri-level end unit is one of Just 55 unit...      0"
      ]
     },
     "execution_count": 15,
     "metadata": {},
     "output_type": "execute_result"
    }
   ],
   "source": [
    "df['chars'] = df['Description'].apply(lambda x: len([x for x in x.split() if '!' in x]))\n",
    "df[['Description','chars']].head()"
   ]
  },
  {
   "cell_type": "markdown",
   "metadata": {},
   "source": [
    "### Numerics"
   ]
  },
  {
   "cell_type": "code",
   "execution_count": 16,
   "metadata": {},
   "outputs": [
    {
     "data": {
      "text/html": [
       "<div>\n",
       "<style scoped>\n",
       "    .dataframe tbody tr th:only-of-type {\n",
       "        vertical-align: middle;\n",
       "    }\n",
       "\n",
       "    .dataframe tbody tr th {\n",
       "        vertical-align: top;\n",
       "    }\n",
       "\n",
       "    .dataframe thead th {\n",
       "        text-align: right;\n",
       "    }\n",
       "</style>\n",
       "<table border=\"1\" class=\"dataframe\">\n",
       "  <thead>\n",
       "    <tr style=\"text-align: right;\">\n",
       "      <th></th>\n",
       "      <th>Description</th>\n",
       "      <th>numerics</th>\n",
       "    </tr>\n",
       "  </thead>\n",
       "  <tbody>\n",
       "    <tr>\n",
       "      <th>0</th>\n",
       "      <td>Huge Development or Investment Potential!. Thi...</td>\n",
       "      <td>2</td>\n",
       "    </tr>\n",
       "    <tr>\n",
       "      <th>1</th>\n",
       "      <td>Fully remodeled, Corner Unit townhome in the C...</td>\n",
       "      <td>4</td>\n",
       "    </tr>\n",
       "    <tr>\n",
       "      <th>2</th>\n",
       "      <td>Cabrini Villas.Top of Hill.Private/Quiet/Grass...</td>\n",
       "      <td>2</td>\n",
       "    </tr>\n",
       "    <tr>\n",
       "      <th>3</th>\n",
       "      <td>SOLD BEFORE PROCESSING - Welcome home to this ...</td>\n",
       "      <td>2</td>\n",
       "    </tr>\n",
       "    <tr>\n",
       "      <th>4</th>\n",
       "      <td>This tri-level end unit is one of Just 55 unit...</td>\n",
       "      <td>2</td>\n",
       "    </tr>\n",
       "  </tbody>\n",
       "</table>\n",
       "</div>"
      ],
      "text/plain": [
       "                                         Description  numerics\n",
       "0  Huge Development or Investment Potential!. Thi...         2\n",
       "1  Fully remodeled, Corner Unit townhome in the C...         4\n",
       "2  Cabrini Villas.Top of Hill.Private/Quiet/Grass...         2\n",
       "3  SOLD BEFORE PROCESSING - Welcome home to this ...         2\n",
       "4  This tri-level end unit is one of Just 55 unit...         2"
      ]
     },
     "execution_count": 16,
     "metadata": {},
     "output_type": "execute_result"
    }
   ],
   "source": [
    "df['numerics'] = df['Description'].apply(lambda x: len([x for x in x.split() if x.isdigit()]))\n",
    "df[['Description','numerics']].head()"
   ]
  },
  {
   "cell_type": "markdown",
   "metadata": {},
   "source": [
    "### Uppercase"
   ]
  },
  {
   "cell_type": "code",
   "execution_count": 17,
   "metadata": {},
   "outputs": [
    {
     "data": {
      "text/html": [
       "<div>\n",
       "<style scoped>\n",
       "    .dataframe tbody tr th:only-of-type {\n",
       "        vertical-align: middle;\n",
       "    }\n",
       "\n",
       "    .dataframe tbody tr th {\n",
       "        vertical-align: top;\n",
       "    }\n",
       "\n",
       "    .dataframe thead th {\n",
       "        text-align: right;\n",
       "    }\n",
       "</style>\n",
       "<table border=\"1\" class=\"dataframe\">\n",
       "  <thead>\n",
       "    <tr style=\"text-align: right;\">\n",
       "      <th></th>\n",
       "      <th>Description</th>\n",
       "      <th>upper</th>\n",
       "    </tr>\n",
       "  </thead>\n",
       "  <tbody>\n",
       "    <tr>\n",
       "      <th>0</th>\n",
       "      <td>Huge Development or Investment Potential!. Thi...</td>\n",
       "      <td>2</td>\n",
       "    </tr>\n",
       "    <tr>\n",
       "      <th>1</th>\n",
       "      <td>Fully remodeled, Corner Unit townhome in the C...</td>\n",
       "      <td>3</td>\n",
       "    </tr>\n",
       "    <tr>\n",
       "      <th>2</th>\n",
       "      <td>Cabrini Villas.Top of Hill.Private/Quiet/Grass...</td>\n",
       "      <td>2</td>\n",
       "    </tr>\n",
       "    <tr>\n",
       "      <th>3</th>\n",
       "      <td>SOLD BEFORE PROCESSING - Welcome home to this ...</td>\n",
       "      <td>3</td>\n",
       "    </tr>\n",
       "    <tr>\n",
       "      <th>4</th>\n",
       "      <td>This tri-level end unit is one of Just 55 unit...</td>\n",
       "      <td>2</td>\n",
       "    </tr>\n",
       "  </tbody>\n",
       "</table>\n",
       "</div>"
      ],
      "text/plain": [
       "                                         Description  upper\n",
       "0  Huge Development or Investment Potential!. Thi...      2\n",
       "1  Fully remodeled, Corner Unit townhome in the C...      3\n",
       "2  Cabrini Villas.Top of Hill.Private/Quiet/Grass...      2\n",
       "3  SOLD BEFORE PROCESSING - Welcome home to this ...      3\n",
       "4  This tri-level end unit is one of Just 55 unit...      2"
      ]
     },
     "execution_count": 17,
     "metadata": {},
     "output_type": "execute_result"
    }
   ],
   "source": [
    "df['upper'] = df['Description'].apply(lambda x: len([x for x in x.split() if x.isupper()]))\n",
    "df[['Description','upper']].head()"
   ]
  },
  {
   "cell_type": "markdown",
   "metadata": {},
   "source": [
    "## Basic Pre-processing"
   ]
  },
  {
   "cell_type": "code",
   "execution_count": 18,
   "metadata": {},
   "outputs": [],
   "source": [
    "# Convert to Lowercase\n",
    "df['description'] = df['Description'].apply(lambda x: \" \".join(x.lower() for x in x.split()))\n",
    "\n",
    "# Remove punctuation\n",
    "df['description'] = df['description'].str.replace('[^\\w\\s]','')"
   ]
  },
  {
   "cell_type": "markdown",
   "metadata": {},
   "source": [
    "### Remove noisy words"
   ]
  },
  {
   "cell_type": "code",
   "execution_count": 19,
   "metadata": {},
   "outputs": [],
   "source": [
    "# Remove stop words\n",
    "df['description'] = df['description'].apply(lambda x: \" \".join(x for x in x.split() if x not in stop))\n",
    "\n",
    "# Remove common words\n",
    "freq1 = pd.Series(' '.join(df['description']).split()).value_counts()[:10]\n",
    "freq1 = list(freq1.index)\n",
    "df['description'] = df['description'].apply(lambda x: \" \".join(x for x in x.split() if x not in freq1))\n",
    "\n",
    "# Remove rare words\n",
    "freq2 = pd.Series(' '.join(df['description']).split()).value_counts()[-10:]\n",
    "freq2 = list(freq2.index)\n",
    "df['description'] = df['description'].apply(lambda x: \" \".join(x for x in x.split() if x not in freq2))"
   ]
  },
  {
   "cell_type": "markdown",
   "metadata": {},
   "source": [
    "### Lemmatization"
   ]
  },
  {
   "cell_type": "code",
   "execution_count": 20,
   "metadata": {},
   "outputs": [],
   "source": [
    "from textblob import Word\n",
    "from nltk.stem import WordNetLemmatizer"
   ]
  },
  {
   "cell_type": "code",
   "execution_count": 21,
   "metadata": {
    "scrolled": true
   },
   "outputs": [],
   "source": [
    "lemmatizer = WordNetLemmatizer()\n",
    "#' '.join([wnl.lemmatize(words) for words in df['descrip'][0]])\n",
    "# def lemmatize_text(text):\n",
    "#     return [lemmatizer.lemmatize(w) for w in text]\n",
    "\n",
    "def lemmatize_text(text):\n",
    "    word_list = nltk.word_tokenize(text)\n",
    "\n",
    "    # Lemmatize list of words and join\n",
    "    lemmatized_output = ' '.join([lemmatizer.lemmatize(w) for w in word_list])\n",
    "    return lemmatized_output\n",
    "\n",
    "df['description'] = df['description'].apply(lemmatize_text)"
   ]
  },
  {
   "cell_type": "markdown",
   "metadata": {},
   "source": [
    "# Analysis - Price Regression\n",
    "\n",
    "https://smltar.com/mlregression.html#mlregressionfull"
   ]
  },
  {
   "cell_type": "markdown",
   "metadata": {},
   "source": [
    "## Train-Test Split"
   ]
  },
  {
   "cell_type": "code",
   "execution_count": 22,
   "metadata": {},
   "outputs": [],
   "source": [
    "from sklearn.model_selection import train_test_split"
   ]
  },
  {
   "cell_type": "code",
   "execution_count": 23,
   "metadata": {},
   "outputs": [],
   "source": [
    "X = df['description']\n",
    "y = df['Price']"
   ]
  },
  {
   "cell_type": "code",
   "execution_count": 24,
   "metadata": {},
   "outputs": [],
   "source": [
    "X_train, X_test, y_train, y_test = train_test_split(X, y, test_size = .2)"
   ]
  },
  {
   "cell_type": "markdown",
   "metadata": {},
   "source": [
    "## Count Vectorizer & TF-IDF"
   ]
  },
  {
   "cell_type": "code",
   "execution_count": 25,
   "metadata": {},
   "outputs": [],
   "source": [
    "from sklearn.feature_extraction.text import CountVectorizer"
   ]
  },
  {
   "cell_type": "code",
   "execution_count": 26,
   "metadata": {},
   "outputs": [],
   "source": [
    "count_vect = CountVectorizer()\n",
    "X_train_counts = count_vect.fit_transform(X_train)\n",
    "X_test_counts = count_vect.transform(X_test)"
   ]
  },
  {
   "cell_type": "code",
   "execution_count": 27,
   "metadata": {},
   "outputs": [],
   "source": [
    "from sklearn.feature_extraction.text import TfidfTransformer"
   ]
  },
  {
   "cell_type": "markdown",
   "metadata": {},
   "source": [
    "#### NOTE: Use Cross Validation Instead"
   ]
  },
  {
   "cell_type": "code",
   "execution_count": 28,
   "metadata": {},
   "outputs": [],
   "source": [
    "tfidf_transformer = TfidfTransformer()\n",
    "X_train_tfidf = tfidf_transformer.fit_transform(X_train_counts)\n",
    "X_test_tfidf = tfidf_transformer.transform(X_test_counts)"
   ]
  },
  {
   "cell_type": "markdown",
   "metadata": {},
   "source": [
    "## Apply SVR"
   ]
  },
  {
   "cell_type": "code",
   "execution_count": 29,
   "metadata": {},
   "outputs": [],
   "source": [
    "from sklearn.svm import SVR"
   ]
  },
  {
   "cell_type": "code",
   "execution_count": 30,
   "metadata": {},
   "outputs": [],
   "source": [
    "# regressor = SVR(kernel = 'linear')\n",
    "# regressor.fit(X_train_tfidf, y_train)"
   ]
  },
  {
   "cell_type": "code",
   "execution_count": 31,
   "metadata": {},
   "outputs": [],
   "source": [
    "# regressor.score(X_train_tfidf, y_train)"
   ]
  },
  {
   "cell_type": "code",
   "execution_count": 32,
   "metadata": {},
   "outputs": [],
   "source": [
    "# regressor.score(X_test_tfidf, y_test)"
   ]
  },
  {
   "cell_type": "markdown",
   "metadata": {},
   "source": [
    "## Apply LinearSVR"
   ]
  },
  {
   "cell_type": "code",
   "execution_count": 33,
   "metadata": {},
   "outputs": [],
   "source": [
    "from sklearn.svm import LinearSVR"
   ]
  },
  {
   "cell_type": "code",
   "execution_count": 34,
   "metadata": {},
   "outputs": [],
   "source": [
    "# regr = LinearSVR(random_state=0, tol=1e-5)\n",
    "# regr.fit(X_train_tfidf, y_train)"
   ]
  },
  {
   "cell_type": "code",
   "execution_count": 35,
   "metadata": {},
   "outputs": [],
   "source": [
    "# regr.score(X_train_tfidf, y_train)"
   ]
  },
  {
   "cell_type": "code",
   "execution_count": 36,
   "metadata": {},
   "outputs": [],
   "source": [
    "# regr.score(X_test_tfidf, y_test)"
   ]
  },
  {
   "cell_type": "markdown",
   "metadata": {},
   "source": [
    "# Analysis - Agent Gender"
   ]
  },
  {
   "cell_type": "code",
   "execution_count": 37,
   "metadata": {},
   "outputs": [],
   "source": [
    "import missingno as msno"
   ]
  },
  {
   "cell_type": "code",
   "execution_count": 38,
   "metadata": {},
   "outputs": [
    {
     "data": {
      "text/plain": [
       "<AxesSubplot:>"
      ]
     },
     "execution_count": 38,
     "metadata": {},
     "output_type": "execute_result"
    },
    {
     "data": {
      "image/png": "[encoded data removed]",
      "text/plain": [
       "<Figure size 1800x720 with 2 Axes>"
      ]
     },
     "metadata": {
      "needs_background": "light"
     },
     "output_type": "display_data"
    }
   ],
   "source": [
    "msno.matrix(df)"
   ]
  },
  {
   "cell_type": "markdown",
   "metadata": {},
   "source": [
    "# Sentiment Analysis"
   ]
  },
  {
   "cell_type": "code",
   "execution_count": 39,
   "metadata": {},
   "outputs": [],
   "source": [
    "pos_words = ['lovely', 'beautiful', 'nice', 'wonderful', 'great', 'perfect', 'amazing', 'unbeatable',\n",
    "             'stellar', 'radiant']"
   ]
  },
  {
   "cell_type": "code",
   "execution_count": 40,
   "metadata": {},
   "outputs": [],
   "source": [
    "def sentiment_check(text):\n",
    "    return any(word in text for word in pos_words)"
   ]
  },
  {
   "cell_type": "code",
   "execution_count": 41,
   "metadata": {},
   "outputs": [],
   "source": [
    "df['pos_sent'] = df['description'].apply(sentiment_check).astype(int)"
   ]
  },
  {
   "cell_type": "code",
   "execution_count": 42,
   "metadata": {},
   "outputs": [],
   "source": [
    "df1 = df.dropna(subset = ['Agent Name', 'description'], axis = 0)\n",
    "df1 = df1.reset_index()"
   ]
  },
  {
   "cell_type": "code",
   "execution_count": 43,
   "metadata": {},
   "outputs": [],
   "source": [
    "vec = CountVectorizer(max_df = 0.2, min_df = 50)\n",
    "counts = vec.fit_transform(df1[\"description\"])\n",
    "counts = counts.toarray()\n",
    "counts_df = pd.DataFrame(counts, columns = vec.get_feature_names())\n",
    "big_df = pd.concat((df1, counts_df), axis = 1)"
   ]
  },
  {
   "cell_type": "code",
   "execution_count": 44,
   "metadata": {},
   "outputs": [],
   "source": [
    "cols = df1.columns.values.tolist()\n",
    "y = big_df['pos_sent']\n",
    "X = big_df.drop(cols, axis = 1)"
   ]
  },
  {
   "cell_type": "code",
   "execution_count": 45,
   "metadata": {},
   "outputs": [],
   "source": [
    "X_train, X_test, y_train, y_test = train_test_split(X, y, test_size = .4)"
   ]
  },
  {
   "cell_type": "code",
   "execution_count": 46,
   "metadata": {},
   "outputs": [],
   "source": [
    "from sklearn.linear_model import LogisticRegression"
   ]
  },
  {
   "cell_type": "code",
   "execution_count": 47,
   "metadata": {},
   "outputs": [
    {
     "data": {
      "text/plain": [
       "LogisticRegression(max_iter=500)"
      ]
     },
     "execution_count": 47,
     "metadata": {},
     "output_type": "execute_result"
    }
   ],
   "source": [
    "LR = LogisticRegression(max_iter = 500)\n",
    "LR.fit(X_train, y_train)"
   ]
  },
  {
   "cell_type": "code",
   "execution_count": 48,
   "metadata": {},
   "outputs": [
    {
     "data": {
      "text/plain": [
       "(0.8891210817455439, 0.7786484742325067)"
      ]
     },
     "execution_count": 48,
     "metadata": {},
     "output_type": "execute_result"
    }
   ],
   "source": [
    "LR.score(X_train, y_train), LR.score(X_test, y_test)"
   ]
  },
  {
   "cell_type": "code",
   "execution_count": 49,
   "metadata": {},
   "outputs": [
    {
     "data": {
      "text/html": [
       "<div>\n",
       "<style scoped>\n",
       "    .dataframe tbody tr th:only-of-type {\n",
       "        vertical-align: middle;\n",
       "    }\n",
       "\n",
       "    .dataframe tbody tr th {\n",
       "        vertical-align: top;\n",
       "    }\n",
       "\n",
       "    .dataframe thead th {\n",
       "        text-align: right;\n",
       "    }\n",
       "</style>\n",
       "<table border=\"1\" class=\"dataframe\">\n",
       "  <thead>\n",
       "    <tr style=\"text-align: right;\">\n",
       "      <th></th>\n",
       "      <th>coef</th>\n",
       "      <th>word</th>\n",
       "    </tr>\n",
       "  </thead>\n",
       "  <tbody>\n",
       "    <tr>\n",
       "      <th>366</th>\n",
       "      <td>5.626981</td>\n",
       "      <td>beautifully</td>\n",
       "    </tr>\n",
       "    <tr>\n",
       "      <th>228</th>\n",
       "      <td>5.584764</td>\n",
       "      <td>amazing</td>\n",
       "    </tr>\n",
       "    <tr>\n",
       "      <th>1636</th>\n",
       "      <td>5.366426</td>\n",
       "      <td>lovely</td>\n",
       "    </tr>\n",
       "    <tr>\n",
       "      <th>2976</th>\n",
       "      <td>5.275571</td>\n",
       "      <td>wonderful</td>\n",
       "    </tr>\n",
       "    <tr>\n",
       "      <th>1828</th>\n",
       "      <td>4.906671</td>\n",
       "      <td>nice</td>\n",
       "    </tr>\n",
       "    <tr>\n",
       "      <th>1977</th>\n",
       "      <td>4.712215</td>\n",
       "      <td>perfectly</td>\n",
       "    </tr>\n",
       "    <tr>\n",
       "      <th>2853</th>\n",
       "      <td>4.060547</td>\n",
       "      <td>venice</td>\n",
       "    </tr>\n",
       "    <tr>\n",
       "      <th>1829</th>\n",
       "      <td>3.593123</td>\n",
       "      <td>nicely</td>\n",
       "    </tr>\n",
       "    <tr>\n",
       "      <th>2977</th>\n",
       "      <td>2.970228</td>\n",
       "      <td>wonderfully</td>\n",
       "    </tr>\n",
       "    <tr>\n",
       "      <th>2536</th>\n",
       "      <td>2.198620</td>\n",
       "      <td>starter</td>\n",
       "    </tr>\n",
       "    <tr>\n",
       "      <th>2792</th>\n",
       "      <td>2.091207</td>\n",
       "      <td>unbeatable</td>\n",
       "    </tr>\n",
       "    <tr>\n",
       "      <th>1976</th>\n",
       "      <td>2.083260</td>\n",
       "      <td>perfection</td>\n",
       "    </tr>\n",
       "    <tr>\n",
       "      <th>2547</th>\n",
       "      <td>2.017496</td>\n",
       "      <td>stellar</td>\n",
       "    </tr>\n",
       "    <tr>\n",
       "      <th>2854</th>\n",
       "      <td>1.760642</td>\n",
       "      <td>vent</td>\n",
       "    </tr>\n",
       "    <tr>\n",
       "      <th>2134</th>\n",
       "      <td>1.680844</td>\n",
       "      <td>radiant</td>\n",
       "    </tr>\n",
       "    <tr>\n",
       "      <th>891</th>\n",
       "      <td>1.608922</td>\n",
       "      <td>dualpaned</td>\n",
       "    </tr>\n",
       "    <tr>\n",
       "      <th>1196</th>\n",
       "      <td>1.513129</td>\n",
       "      <td>functionally</td>\n",
       "    </tr>\n",
       "    <tr>\n",
       "      <th>461</th>\n",
       "      <td>1.453844</td>\n",
       "      <td>brought</td>\n",
       "    </tr>\n",
       "    <tr>\n",
       "      <th>2009</th>\n",
       "      <td>1.418788</td>\n",
       "      <td>placed</td>\n",
       "    </tr>\n",
       "    <tr>\n",
       "      <th>2015</th>\n",
       "      <td>1.401993</td>\n",
       "      <td>planting</td>\n",
       "    </tr>\n",
       "  </tbody>\n",
       "</table>\n",
       "</div>"
      ],
      "text/plain": [
       "          coef          word\n",
       "366   5.626981   beautifully\n",
       "228   5.584764       amazing\n",
       "1636  5.366426        lovely\n",
       "2976  5.275571     wonderful\n",
       "1828  4.906671          nice\n",
       "1977  4.712215     perfectly\n",
       "2853  4.060547        venice\n",
       "1829  3.593123        nicely\n",
       "2977  2.970228   wonderfully\n",
       "2536  2.198620       starter\n",
       "2792  2.091207    unbeatable\n",
       "1976  2.083260    perfection\n",
       "2547  2.017496       stellar\n",
       "2854  1.760642          vent\n",
       "2134  1.680844       radiant\n",
       "891   1.608922     dualpaned\n",
       "1196  1.513129  functionally\n",
       "461   1.453844       brought\n",
       "2009  1.418788        placed\n",
       "2015  1.401993      planting"
      ]
     },
     "execution_count": 49,
     "metadata": {},
     "output_type": "execute_result"
    }
   ],
   "source": [
    "result_df = pd.DataFrame({\"coef\" : LR.coef_[0], \"word\" : X_train.columns})\n",
    "result_df.sort_values('coef', ascending = False).head(20)"
   ]
  },
  {
   "cell_type": "code",
   "execution_count": 50,
   "metadata": {},
   "outputs": [],
   "source": [
    "df1['sent_preds'] = LR.predict(X)"
   ]
  },
  {
   "cell_type": "markdown",
   "metadata": {},
   "source": [
    "### Gender Classification and Modeling"
   ]
  },
  {
   "cell_type": "code",
   "execution_count": 51,
   "metadata": {},
   "outputs": [],
   "source": [
    "import random\n",
    "from nltk.corpus import names\n",
    "import nltk"
   ]
  },
  {
   "cell_type": "code",
   "execution_count": 52,
   "metadata": {},
   "outputs": [
    {
     "name": "stdout",
     "output_type": "stream",
     "text": [
      "male\n",
      "0.7626276195593766\n"
     ]
    }
   ],
   "source": [
    "def gender_features(word):\n",
    "    return {'last_letter':word[-1]}\n",
    "  \n",
    "# preparing a list of examples and corresponding class labels.\n",
    "labeled_names = ([(name, 'male') for name in names.words('male.txt')]+\n",
    "             [(name, 'female') for name in names.words('female.txt')])\n",
    "  \n",
    "random.shuffle(labeled_names)\n",
    "  \n",
    "# we use the feature extractor to process the names data.\n",
    "featuresets = [(gender_features(n), gender) \n",
    "               for (n, gender)in labeled_names]\n",
    "  \n",
    "# Divide the resulting list of feature\n",
    "# sets into a training set and a test set.\n",
    "train_set, test_set = featuresets[500:], featuresets[:500]\n",
    "  \n",
    "# The training set is used to \n",
    "# train a new \"naive Bayes\" classifier.\n",
    "classifier = nltk.NaiveBayesClassifier.train(train_set)\n",
    "  \n",
    "print(classifier.classify(gender_features('mahavir')))\n",
    "# output should be 'male'\n",
    "\n",
    "print(nltk.classify.accuracy(classifier, train_set))"
   ]
  },
  {
   "cell_type": "code",
   "execution_count": 53,
   "metadata": {},
   "outputs": [],
   "source": [
    "def helper(name):\n",
    "    return classifier.classify(gender_features(name.split()[0]))"
   ]
  },
  {
   "cell_type": "code",
   "execution_count": 54,
   "metadata": {},
   "outputs": [],
   "source": [
    "df1['Agent_Gender'] = df1['Agent Name'].apply(helper)"
   ]
  },
  {
   "cell_type": "code",
   "execution_count": 55,
   "metadata": {},
   "outputs": [],
   "source": [
    "X = df1['description']\n",
    "y = df1['Agent_Gender']"
   ]
  },
  {
   "cell_type": "code",
   "execution_count": 56,
   "metadata": {},
   "outputs": [],
   "source": [
    "from sklearn import preprocessing"
   ]
  },
  {
   "cell_type": "code",
   "execution_count": 57,
   "metadata": {},
   "outputs": [],
   "source": [
    "le = preprocessing.LabelEncoder()\n",
    "y = le.fit_transform(y)"
   ]
  },
  {
   "cell_type": "code",
   "execution_count": 58,
   "metadata": {},
   "outputs": [],
   "source": [
    "X_train, X_test, y_train, y_test = train_test_split(X, y, test_size = .4)"
   ]
  },
  {
   "cell_type": "code",
   "execution_count": 59,
   "metadata": {},
   "outputs": [],
   "source": [
    "count_vect = CountVectorizer()\n",
    "X_train_counts = count_vect.fit_transform(X_train)\n",
    "X_test_counts = count_vect.transform(X_test)"
   ]
  },
  {
   "cell_type": "code",
   "execution_count": 60,
   "metadata": {},
   "outputs": [],
   "source": [
    "tfidf_transformer = TfidfTransformer()\n",
    "X_train_tfidf = tfidf_transformer.fit_transform(X_train_counts)\n",
    "X_test_tfidf = tfidf_transformer.transform(X_test_counts)"
   ]
  },
  {
   "cell_type": "markdown",
   "metadata": {},
   "source": [
    "## Naive Bayes Classifier"
   ]
  },
  {
   "cell_type": "code",
   "execution_count": 61,
   "metadata": {},
   "outputs": [],
   "source": [
    "from sklearn.naive_bayes import MultinomialNB"
   ]
  },
  {
   "cell_type": "code",
   "execution_count": 62,
   "metadata": {},
   "outputs": [],
   "source": [
    "clf = MultinomialNB().fit(X_train_tfidf, y_train)"
   ]
  },
  {
   "cell_type": "code",
   "execution_count": 63,
   "metadata": {},
   "outputs": [
    {
     "data": {
      "text/plain": [
       "0.7783650891210817"
      ]
     },
     "execution_count": 63,
     "metadata": {},
     "output_type": "execute_result"
    }
   ],
   "source": [
    "clf.score(X_train_tfidf, y_train)"
   ]
  },
  {
   "cell_type": "code",
   "execution_count": 64,
   "metadata": {},
   "outputs": [
    {
     "data": {
      "text/plain": [
       "0.5751820779939154"
      ]
     },
     "execution_count": 64,
     "metadata": {},
     "output_type": "execute_result"
    }
   ],
   "source": [
    "clf.score(X_test_tfidf, y_test)"
   ]
  },
  {
   "cell_type": "markdown",
   "metadata": {},
   "source": [
    "## Linear SVC"
   ]
  },
  {
   "cell_type": "code",
   "execution_count": 65,
   "metadata": {},
   "outputs": [],
   "source": [
    "from sklearn.svm import LinearSVC"
   ]
  },
  {
   "cell_type": "code",
   "execution_count": 66,
   "metadata": {},
   "outputs": [],
   "source": [
    "# lsvc = LinearSVC(random_state=0, tol=1e-5)\n",
    "# lsvc.fit(X_train_tfidf, y_train)"
   ]
  },
  {
   "cell_type": "code",
   "execution_count": 67,
   "metadata": {},
   "outputs": [],
   "source": [
    "# lsvc.score(X_train_tfidf, y_train)"
   ]
  },
  {
   "cell_type": "code",
   "execution_count": 68,
   "metadata": {},
   "outputs": [],
   "source": [
    "# lsvc.score(X_test_tfidf, y_test)"
   ]
  },
  {
   "cell_type": "markdown",
   "metadata": {},
   "source": [
    "## SVC"
   ]
  },
  {
   "cell_type": "code",
   "execution_count": 69,
   "metadata": {},
   "outputs": [],
   "source": [
    "from sklearn.svm import SVC"
   ]
  },
  {
   "cell_type": "code",
   "execution_count": 70,
   "metadata": {},
   "outputs": [],
   "source": [
    "# svc = SVC(random_state=0, tol=1e-5)\n",
    "# svc.fit(X_train_tfidf, y_train)"
   ]
  },
  {
   "cell_type": "code",
   "execution_count": 71,
   "metadata": {},
   "outputs": [],
   "source": [
    "# svc.score(X_train_tfidf, y_train)"
   ]
  },
  {
   "cell_type": "code",
   "execution_count": 72,
   "metadata": {
    "scrolled": true
   },
   "outputs": [],
   "source": [
    "# svc.score(X_test_tfidf, y_test)"
   ]
  },
  {
   "cell_type": "markdown",
   "metadata": {},
   "source": [
    "### Correlations"
   ]
  },
  {
   "cell_type": "code",
   "execution_count": 73,
   "metadata": {},
   "outputs": [],
   "source": [
    "vec = CountVectorizer(max_df = 0.2, min_df = 50)\n",
    "counts = vec.fit_transform(df1[\"description\"])\n",
    "counts = counts.toarray()\n",
    "counts_df = pd.DataFrame(counts, columns = vec.get_feature_names())\n",
    "big_df = pd.concat((df1, counts_df), axis = 1)"
   ]
  },
  {
   "cell_type": "code",
   "execution_count": 74,
   "metadata": {},
   "outputs": [],
   "source": [
    "cols = df1.columns.values.tolist()\n",
    "y = big_df['Agent_Gender']\n",
    "X = big_df.drop(cols, axis = 1)"
   ]
  },
  {
   "cell_type": "code",
   "execution_count": 75,
   "metadata": {},
   "outputs": [],
   "source": [
    "X_train, X_test, y_train, y_test = train_test_split(X, y, test_size = .4)"
   ]
  },
  {
   "cell_type": "code",
   "execution_count": 76,
   "metadata": {},
   "outputs": [],
   "source": [
    "# svc = SVC(random_state=0, tol=1e-5)\n",
    "# svc.fit(X_train, y_train)"
   ]
  },
  {
   "cell_type": "code",
   "execution_count": 77,
   "metadata": {},
   "outputs": [],
   "source": [
    "# svc.score(X_train, y_train), svc.score(X_test, y_test)"
   ]
  },
  {
   "cell_type": "code",
   "execution_count": 78,
   "metadata": {},
   "outputs": [],
   "source": [
    "# df1['gender_preds'] = svc.predict(X)"
   ]
  },
  {
   "cell_type": "code",
   "execution_count": 79,
   "metadata": {},
   "outputs": [
    {
     "name": "stderr",
     "output_type": "stream",
     "text": [
      "<ipython-input-79-39e8965f71ae>:2: SettingWithCopyWarning: \n",
      "A value is trying to be set on a copy of a slice from a DataFrame\n",
      "\n",
      "See the caveats in the documentation: https://pandas.pydata.org/pandas-docs/stable/user_guide/indexing.html#returning-a-view-versus-a-copy\n",
      "  df1['Agent_Gender_num'][df1['Agent_Gender'] == 'male'] = 1\n"
     ]
    }
   ],
   "source": [
    "df1['Agent_Gender_num'] = 0\n",
    "df1['Agent_Gender_num'][df1['Agent_Gender'] == 'male'] = 1"
   ]
  },
  {
   "cell_type": "code",
   "execution_count": 80,
   "metadata": {},
   "outputs": [],
   "source": [
    "import scipy.stats as ss"
   ]
  },
  {
   "cell_type": "code",
   "execution_count": 82,
   "metadata": {},
   "outputs": [],
   "source": [
    "# sub_df = df1[['sent_preds', 'pos_sent', 'Agent_Gender_num', 'gender_preds']]"
   ]
  },
  {
   "cell_type": "code",
   "execution_count": null,
   "metadata": {},
   "outputs": [],
   "source": [
    "cat_var1 = ('sent_preds', 'pos_sent')\n",
    "cat_var2 = ('Agent_Gender', 'gender_preds')"
   ]
  },
  {
   "cell_type": "code",
   "execution_count": null,
   "metadata": {},
   "outputs": [],
   "source": [
    "cat_var_prod = [('sent_preds', 'Agent_Gender_num'), ('sent_preds', 'gender_preds'), ('pos_sent', 'Agent_Gender_num'),\n",
    "               ('pos_sent', 'gender_preds')]"
   ]
  },
  {
   "cell_type": "code",
   "execution_count": null,
   "metadata": {},
   "outputs": [],
   "source": [
    "result = []\n",
    "for i in cat_var_prod:\n",
    "    if (i[0] != i[1]):\n",
    "        result.append((i[0], i[1], list(ss.chi2_contingency(pd.crosstab(sub_df[i[0]], sub_df[i[1]])))[1]))"
   ]
  },
  {
   "cell_type": "code",
   "execution_count": null,
   "metadata": {
    "scrolled": true
   },
   "outputs": [],
   "source": [
    "chi_test_output = pd.DataFrame(result, columns = ['var1', 'var2', 'coeff'])\n",
    "chi_test_output.pivot(index='var1', columns='var2', values='coeff')"
   ]
  },
  {
   "cell_type": "code",
   "execution_count": 85,
   "metadata": {},
   "outputs": [],
   "source": [
    "df1['Price'] = pd.to_numeric(df1['Price'])\n",
    "df1['Zestimate'] = pd.to_numeric(df1['Zestimate'])\n",
    "df1['Days On Zillow'] = pd.to_numeric(df1['Days On Zillow'])"
   ]
  },
  {
   "cell_type": "code",
   "execution_count": 86,
   "metadata": {},
   "outputs": [],
   "source": [
    "df1 = df1.dropna(subset = ['Price'], axis = 0)"
   ]
  },
  {
   "cell_type": "code",
   "execution_count": null,
   "metadata": {},
   "outputs": [],
   "source": [
    "df1_male = df1[df1['Agent_Gender_num'] == 1]"
   ]
  },
  {
   "cell_type": "code",
   "execution_count": null,
   "metadata": {},
   "outputs": [],
   "source": [
    "ss.pointbiserialr(df1['Agent_Gender_num'], df1['Price'])"
   ]
  },
  {
   "cell_type": "code",
   "execution_count": null,
   "metadata": {},
   "outputs": [],
   "source": [
    "np.corrcoef(df1['Agent_Gender_num'], df1['Price'])"
   ]
  },
  {
   "cell_type": "code",
   "execution_count": null,
   "metadata": {},
   "outputs": [],
   "source": [
    "temp = df1.groupby(\"Agent_Gender\")[[\"Price\"]].mean()\n",
    "temp['Price']['male'] - temp['Price']['female']"
   ]
  },
  {
   "cell_type": "code",
   "execution_count": null,
   "metadata": {},
   "outputs": [],
   "source": [
    "temp = df1.groupby(\"Agent_Gender\")[[\"Zestimate\"]].mean()\n",
    "temp['Zestimate']['male'] - temp['Zestimate']['female']"
   ]
  },
  {
   "cell_type": "code",
   "execution_count": null,
   "metadata": {},
   "outputs": [],
   "source": [
    "temp = df1.groupby(\"Agent_Gender\")[[\"Days On Zillow\"]].mean()\n",
    "temp['Days On Zillow']['male'] - temp['Days On Zillow']['female']"
   ]
  },
  {
   "cell_type": "code",
   "execution_count": null,
   "metadata": {
    "scrolled": true
   },
   "outputs": [],
   "source": [
    "temp = df1.groupby(\"Agent_Gender\")[[\"word_count\"]].mean()\n",
    "temp['word_count']['male'] - temp['word_count']['female']"
   ]
  },
  {
   "cell_type": "code",
   "execution_count": 87,
   "metadata": {},
   "outputs": [],
   "source": [
    "df1_cheap = df1[df1['Price'] < 1000000]\n",
    "df1_exp = df1[(df1['Price'] >= 1000000) & (df1['Price'] < 2000000)]"
   ]
  },
  {
   "cell_type": "code",
   "execution_count": null,
   "metadata": {},
   "outputs": [],
   "source": [
    "temp = df1.groupby(\"Agent_Gender\")[[\"pos_sent\"]].mean()\n",
    "temp['pos_sent']['male'] - temp['pos_sent']['female']"
   ]
  },
  {
   "cell_type": "code",
   "execution_count": 88,
   "metadata": {
    "scrolled": true
   },
   "outputs": [
    {
     "data": {
      "text/plain": [
       "[Text(0.5, 1.0, 'Price less than $1M')]"
      ]
     },
     "execution_count": 88,
     "metadata": {},
     "output_type": "execute_result"
    },
    {
     "data": {
      "image/png": "[encoded data removed]",
      "text/plain": [
       "<Figure size 432x288 with 1 Axes>"
      ]
     },
     "metadata": {
      "needs_background": "light"
     },
     "output_type": "display_data"
    }
   ],
   "source": [
    "sns.histplot(x = 'Price', hue = 'Agent_Gender', data = df1_cheap).set(title = \"Price less than $1M\")"
   ]
  },
  {
   "cell_type": "code",
   "execution_count": null,
   "metadata": {},
   "outputs": [],
   "source": []
  },
  {
   "cell_type": "code",
   "execution_count": 92,
   "metadata": {},
   "outputs": [
    {
     "data": {
      "text/plain": [
       "[Text(0.5, 1.0, 'Price between \\\\$1M and $1.5M')]"
      ]
     },
     "execution_count": 92,
     "metadata": {},
     "output_type": "execute_result"
    },
    {
     "data": {
      "image/png": "[encoded data removed]",
      "text/plain": [
       "<Figure size 432x288 with 1 Axes>"
      ]
     },
     "metadata": {
      "needs_background": "light"
     },
     "output_type": "display_data"
    }
   ],
   "source": [
    "sns.histplot(x = 'Price', hue = 'Agent_Gender', data = df1_exp, hue_order = ['female', 'male']).set(title = \"Price between \\$1M and $1.5M\",)"
   ]
  },
  {
   "cell_type": "code",
   "execution_count": null,
   "metadata": {},
   "outputs": [],
   "source": [
    "df1['Agent_Gender'].value_counts()"
   ]
  },
  {
   "cell_type": "markdown",
   "metadata": {},
   "source": [
    "# Analysis - Agency"
   ]
  },
  {
   "cell_type": "code",
   "execution_count": null,
   "metadata": {},
   "outputs": [],
   "source": [
    "df2 = df.dropna(subset = ['Agency'], axis = 0)"
   ]
  },
  {
   "cell_type": "code",
   "execution_count": null,
   "metadata": {},
   "outputs": [],
   "source": [
    "X = df2['description']\n",
    "y = df2['Agency']"
   ]
  },
  {
   "cell_type": "code",
   "execution_count": null,
   "metadata": {},
   "outputs": [],
   "source": [
    "X_train, X_test, y_train, y_test = train_test_split(X, y, test_size = .4)"
   ]
  },
  {
   "cell_type": "code",
   "execution_count": null,
   "metadata": {},
   "outputs": [],
   "source": [
    "count_vect = CountVectorizer()\n",
    "X_train_counts = count_vect.fit_transform(X_train)\n",
    "X_test_counts = count_vect.transform(X_test)"
   ]
  },
  {
   "cell_type": "code",
   "execution_count": null,
   "metadata": {},
   "outputs": [],
   "source": [
    "tfidf_transformer = TfidfTransformer()\n",
    "X_train_tfidf = tfidf_transformer.fit_transform(X_train_counts)\n",
    "X_test_tfidf = tfidf_transformer.transform(X_test_counts)"
   ]
  },
  {
   "cell_type": "markdown",
   "metadata": {},
   "source": [
    "## SVC"
   ]
  },
  {
   "cell_type": "code",
   "execution_count": null,
   "metadata": {},
   "outputs": [],
   "source": [
    "# svc = SVC(random_state=0, tol=1e-5)\n",
    "# svc.fit(X_train_tfidf, y_train)"
   ]
  },
  {
   "cell_type": "code",
   "execution_count": null,
   "metadata": {},
   "outputs": [],
   "source": [
    "# svc.score(X_train_tfidf, y_train)"
   ]
  },
  {
   "cell_type": "code",
   "execution_count": null,
   "metadata": {},
   "outputs": [],
   "source": [
    "# svc.score(X_test_tfidf, y_test)"
   ]
  },
  {
   "cell_type": "markdown",
   "metadata": {},
   "source": [
    "## Linear SVC"
   ]
  },
  {
   "cell_type": "code",
   "execution_count": null,
   "metadata": {},
   "outputs": [],
   "source": [
    "# lsvc = LinearSVC(random_state=0, tol=1e-5)\n",
    "# lsvc.fit(X_train_tfidf, y_train)"
   ]
  },
  {
   "cell_type": "code",
   "execution_count": null,
   "metadata": {},
   "outputs": [],
   "source": [
    "# lsvc.score(X_train_tfidf, y_train)"
   ]
  },
  {
   "cell_type": "code",
   "execution_count": null,
   "metadata": {},
   "outputs": [],
   "source": [
    "# lsvc.score(X_test_tfidf, y_test)"
   ]
  }
 ],
 "metadata": {
  "kernelspec": {
   "display_name": "Python 3",
   "language": "python",
   "name": "python3"
  },
  "language_info": {
   "codemirror_mode": {
    "name": "ipython",
    "version": 3
   },
   "file_extension": ".py",
   "mimetype": "text/x-python",
   "name": "python",
   "nbconvert_exporter": "python",
   "pygments_lexer": "ipython3",
   "version": "3.8.5"
  }
 },
 "nbformat": 4,
 "nbformat_minor": 4
}
